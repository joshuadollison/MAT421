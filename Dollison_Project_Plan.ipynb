{
  "nbformat": 4,
  "nbformat_minor": 0,
  "metadata": {
    "colab": {
      "provenance": [],
      "authorship_tag": "ABX9TyO9UJ6+zP3zBVIyxOREFwVl",
      "include_colab_link": true
    },
    "kernelspec": {
      "name": "python3",
      "display_name": "Python 3"
    },
    "language_info": {
      "name": "python"
    }
  },
  "cells": [
    {
      "cell_type": "markdown",
      "metadata": {
        "id": "view-in-github",
        "colab_type": "text"
      },
      "source": [
        "<a href=\"https://colab.research.google.com/github/joshuadollison/MAT421/blob/main/Dollison_Project_Plan.ipynb\" target=\"_parent\"><img src=\"https://colab.research.google.com/assets/colab-badge.svg\" alt=\"Open In Colab\"/></a>"
      ]
    },
    {
      "cell_type": "markdown",
      "source": [
        "# **Project Plan**\n",
        "Joshua Dollison\n",
        "\n",
        "MAT421-16133\n",
        "\n",
        "3/23/2025"
      ],
      "metadata": {
        "id": "p5R1lzVX_7KT"
      }
    },
    {
      "cell_type": "markdown",
      "source": [
        "## 1. Introduction to the Problem\n",
        "Managing portfolio risk is central to finance and investment strategy. As investors build diversified portfolios of dozens or hundreds of stocks, analyzing the joint behavior of asset returns becomes complex due to high correlations among the assets. Principal Component Analysis (PCA) offers a statistical technique to simplify this problem by transforming correlated asset returns into a set of uncorrelated components that explain the overall variance.\n",
        "\n",
        "The goal of this project is to apply PCA to historical daily stock returns from a selected basket of equities (e.g., S&P 500 subset) to identify dominant patterns in market behavior and reduce dimensionality. This approach provides insights into latent market factors (e.g., overall market trend, sector performance) and helps in understanding systemic risk exposures."
      ],
      "metadata": {
        "id": "tOLQv4rYABXz"
      }
    },
    {
      "cell_type": "markdown",
      "source": [
        "## 2. Related Work\n",
        "\n",
        "PCA has been extensively used in financial econometrics for factor modeling, risk attribution, and return forecasting. Applications include:\n",
        "\n",
        "- Identifying the first principal component as a proxy for market return (similar to the CAPM beta).\n",
        "- Using PCA to construct eigenportfolios that represent orthogonal risk exposures.\n",
        "- Risk decomposition and volatility clustering in portfolio construction.\n",
        "\n",
        "Academic references include works by Connor and Korajczyk (1986) on asset pricing using PCA, and more recently, machine learning applications integrating PCA with forecasting models. Our project builds on these foundations by providing a reproducible implementation using Python."
      ],
      "metadata": {
        "id": "FBwwBFGgCAQ0"
      }
    },
    {
      "cell_type": "markdown",
      "source": [
        "## 3. Proposed Methodology / Models\n",
        "\n",
        "1. **Data Collection**:\n",
        "   - Use `yfinance` to download 5 years of daily adjusted close prices for 30-100 S&P 500 companies.\n",
        "   - Focus on diverse sectors to maximize variation.\n",
        "\n",
        "2. **Preprocessing**:\n",
        "   - Convert prices to daily log returns.\n",
        "   - Handle missing values using forward fill or interpolation.\n",
        "   - Standardize return series (mean = 0, std = 1).\n",
        "\n",
        "3. **PCA Application**:\n",
        "   - Apply PCA to the standardized return matrix.\n",
        "   - Analyze explained variance ratio to select the number of components.\n",
        "\n",
        "4. **Risk Attribution**:\n",
        "   - Visualize loadings (i.e., stock contributions to each PC).\n",
        "   - Interpret PCs as market-wide or sectoral trends.\n",
        "\n",
        "5. **Reconstruction and Evaluation**:\n",
        "   - Reconstruct the return matrix using top N PCs.\n",
        "   - Compare variance captured and reconstruction error.\n",
        "\n",
        "Optional extensions include comparing PCA results before and after major financial events (e.g., COVID crash) to see shifts in principal directions."
      ],
      "metadata": {
        "id": "jVHEFrQDCHpG"
      }
    },
    {
      "cell_type": "markdown",
      "source": [
        "## 4. Experiment Setups\n",
        "\n",
        "- **Tools**: Python 3.x, `yfinance`, `pandas`, `numpy`, `sklearn`, `matplotlib`, `seaborn`\n",
        "- **Evaluation Metrics**:\n",
        "  - Scree plot and cumulative explained variance\n",
        "  - RMSE between original and reconstructed returns\n",
        "  - Heatmaps of component loadings for interpretation\n",
        "- **Baseline**:\n",
        "  - Raw correlation matrix visualization\n",
        "- **Validation**:\n",
        "  - Compare results using different subsets of stocks (e.g., tech vs industrials)\n",
        "  - Time slicing: 2018-2020 vs 2021-2023\n",
        "\n",
        "The notebook will be structured with modular sections for loading, preprocessing, modeling, visualization, and analysis."
      ],
      "metadata": {
        "id": "iy8FArOKCPFB"
      }
    },
    {
      "cell_type": "markdown",
      "source": [
        "## 5. Expected Results\n",
        "\n",
        "We expect that the first few principal components (3-5) will explain a significant proportion of the total variance (>70%). The first PC will likely correspond to general market movements, while others may represent sector-specific effects. Loadings should help identify which stocks contribute most to each risk factor.\n",
        "\n",
        "By reconstructing the return series using a limited number of PCs, we anticipate that the reduced model will approximate the full correlation structure with lower complexity. These insights can be used for portfolio optimization, hedging strategies, or risk visualization.\n",
        "\n",
        "The project will demonstrate that PCA is not only useful for compression but also for uncovering interpretable patterns in financial data, aiding in better decision-making."
      ],
      "metadata": {
        "id": "mwM-woK6CSzU"
      }
    }
  ]
}